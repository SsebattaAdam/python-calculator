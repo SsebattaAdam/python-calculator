{
 "cells": [
  {
   "cell_type": "code",
   "execution_count": 2,
   "id": "78b32e3d",
   "metadata": {},
   "outputs": [
    {
     "name": "stdout",
     "output_type": "stream",
     "text": [
      "False\n",
      "True\n"
     ]
    }
   ],
   "source": [
    "a = 5\n",
    "b = 3\n",
    "is_equal = a == b\n",
    "is_greater = a > b\n",
    "print(is_equal) # false\n",
    "print(is_greater) #true\n",
    "\n"
   ]
  },
  {
   "cell_type": "code",
   "execution_count": 1,
   "id": "2aba50d0",
   "metadata": {},
   "outputs": [
    {
     "name": "stdout",
     "output_type": "stream",
     "text": [
      "32\n"
     ]
    }
   ],
   "source": [
    "f = 2\n",
    "f **=5\n",
    "print(f)\n"
   ]
  },
  {
   "cell_type": "code",
   "execution_count": 5,
   "id": "2af99c0e",
   "metadata": {},
   "outputs": [
    {
     "name": "stdout",
     "output_type": "stream",
     "text": [
      "True\n",
      "True\n"
     ]
    }
   ],
   "source": [
    "x = \"adam\"\n",
    "y = \"adam\"\n",
    "print(x is y)\n",
    "print(x == y)"
   ]
  },
  {
   "cell_type": "code",
   "execution_count": 6,
   "id": "82f90eac",
   "metadata": {},
   "outputs": [],
   "source": [
    "import tkinter as tk"
   ]
  },
  {
   "cell_type": "code",
   "execution_count": 8,
   "id": "8b0bbd99",
   "metadata": {},
   "outputs": [
    {
     "ename": "AttributeError",
     "evalue": "module 'tkinter' has no attribute 'ttk'",
     "output_type": "error",
     "traceback": [
      "\u001b[1;31m---------------------------------------------------------------------------\u001b[0m",
      "\u001b[1;31mAttributeError\u001b[0m                            Traceback (most recent call last)",
      "Cell \u001b[1;32mIn[8], line 46\u001b[0m\n\u001b[0;32m     43\u001b[0m label_operation\u001b[38;5;241m.\u001b[39mpack()\n\u001b[0;32m     45\u001b[0m operations \u001b[38;5;241m=\u001b[39m [\u001b[38;5;124m\"\u001b[39m\u001b[38;5;124m+\u001b[39m\u001b[38;5;124m\"\u001b[39m, \u001b[38;5;124m\"\u001b[39m\u001b[38;5;124m-\u001b[39m\u001b[38;5;124m\"\u001b[39m, \u001b[38;5;124m\"\u001b[39m\u001b[38;5;124m*\u001b[39m\u001b[38;5;124m\"\u001b[39m, \u001b[38;5;124m\"\u001b[39m\u001b[38;5;124m/\u001b[39m\u001b[38;5;124m\"\u001b[39m]\n\u001b[1;32m---> 46\u001b[0m combo_operation \u001b[38;5;241m=\u001b[39m \u001b[43mtk\u001b[49m\u001b[38;5;241;43m.\u001b[39;49m\u001b[43mttk\u001b[49m\u001b[38;5;241m.\u001b[39mCombobox(window, values\u001b[38;5;241m=\u001b[39moperations)\n\u001b[0;32m     47\u001b[0m combo_operation\u001b[38;5;241m.\u001b[39mpack()\n\u001b[0;32m     49\u001b[0m \u001b[38;5;66;03m# Create calculate button\u001b[39;00m\n",
      "\u001b[1;31mAttributeError\u001b[0m: module 'tkinter' has no attribute 'ttk'"
     ]
    }
   ],
   "source": [
    "import tkinter as tk\n",
    "\n",
    "def calculate():\n",
    "    try:\n",
    "        num1 = float(entry_num1.get())\n",
    "        num2 = float(entry_num2.get())\n",
    "        operation = combo_operation.get()\n",
    "\n",
    "        if operation == \"+\":\n",
    "            result = num1 + num2\n",
    "        elif operation == \"-\":\n",
    "            result = num1 - num2\n",
    "        elif operation == \"*\":\n",
    "            result = num1 * num2\n",
    "        elif operation == \"/\":\n",
    "            result = num1 / num2\n",
    "        else:\n",
    "            result = \"Invalid operation\"\n",
    "\n",
    "        label_result.config(text=str(result))\n",
    "    except ValueError:\n",
    "        label_result.config(text=\"Invalid input\")\n",
    "\n",
    "# Create the main window\n",
    "window = tk.Tk()\n",
    "window.title(\"Simple Calculator\")\n",
    "\n",
    "# Create input fields and labels\n",
    "label_num1 = tk.Label(window, text=\"Number 1:\")\n",
    "label_num1.pack()\n",
    "\n",
    "entry_num1 = tk.Entry(window)\n",
    "entry_num1.pack()\n",
    "\n",
    "label_num2 = tk.Label(window, text=\"Number 2:\")\n",
    "label_num2.pack()\n",
    "\n",
    "entry_num2 = tk.Entry(window)\n",
    "entry_num2.pack()\n",
    "\n",
    "# Create operation selection dropdown\n",
    "label_operation = tk.Label(window, text=\"Operation:\")\n",
    "label_operation.pack()\n",
    "\n",
    "operations = [\"+\", \"-\", \"*\", \"/\"]\n",
    "combo_operation = tk.ttk.Combobox(window, values=operations)\n",
    "combo_operation.pack()\n",
    "\n",
    "# Create calculate button\n",
    "button_calculate = tk.Button(window, text=\"Calculate\", command=calculate)\n",
    "button_calculate.pack()\n",
    "\n",
    "# Create label for displaying result\n",
    "label_result = tk.Label(window, text=\"Result:\")\n",
    "label_result.pack()\n",
    "\n",
    "# Run the main event loop\n",
    "window.mainloop()\n"
   ]
  },
  {
   "cell_type": "code",
   "execution_count": 12,
   "id": "6e91f653",
   "metadata": {},
   "outputs": [],
   "source": [
    "import tkinter as tk\n",
    "from tkinter import ttk\n",
    "\n",
    "def calculate():\n",
    "    try:\n",
    "        num1 = float(entry_num1.get())\n",
    "        num2 = float(entry_num2.get())\n",
    "        operation = combo_operation.get()\n",
    "\n",
    "        if operation == \"+\":\n",
    "            result = num1 + num2\n",
    "        elif operation == \"-\":\n",
    "            result = num1 - num2\n",
    "        elif operation == \"*\":\n",
    "            result = num1 * num2\n",
    "        elif operation == \"/\":\n",
    "            result = num1 / num2\n",
    "        else:\n",
    "            result = \"Invalid operation\"\n",
    "\n",
    "        label_result.config(text=str(result))\n",
    "    except ValueError:\n",
    "        label_result.config(text=\"Invalid input\")\n",
    "\n",
    "# Create the main window\n",
    "window = tk.Tk()\n",
    "window.title(\"Simple Calculator\")\n",
    "\n",
    "# Create input fields and labels\n",
    "label_num1 = tk.Label(window, text=\"Number 1:\")\n",
    "label_num1.pack()\n",
    "\n",
    "entry_num1 = tk.Entry(window)\n",
    "entry_num1.pack()\n",
    "\n",
    "label_num2 = tk.Label(window, text=\"Number 2:\")\n",
    "label_num2.pack()\n",
    "\n",
    "entry_num2 = tk.Entry(window)\n",
    "entry_num2.pack()\n",
    "\n",
    "# Create operation selection dropdown\n",
    "label_operation = tk.Label(window, text=\"Operation:\")\n",
    "label_operation.pack()\n",
    "\n",
    "operations = [\"+\", \"-\", \"*\", \"/\"]\n",
    "combo_operation = ttk.Combobox(window, values=operations)\n",
    "combo_operation.pack()\n",
    "\n",
    "# Create calculate button\n",
    "button_calculate = tk.Button(window, text=\"Calculate\", command=calculate)\n",
    "button_calculate.pack()\n",
    "\n",
    "# Create label for displaying result\n",
    "label_result = tk.Label(window, text=\"Result:\")\n",
    "label_result.pack()\n",
    "\n",
    "# Run the main event loop\n",
    "window.mainloop()\n"
   ]
  },
  {
   "cell_type": "code",
   "execution_count": 14,
   "id": "81b95928",
   "metadata": {},
   "outputs": [],
   "source": [
    "import tkinter as tk\n",
    "from tkinter import ttk\n",
    "\n",
    "def calculate():\n",
    "    try:\n",
    "        num1 = float(entry_num1.get())\n",
    "        num2 = float(entry_num2.get())\n",
    "        operation = combo_operation.get()\n",
    "\n",
    "        if operation == \"+\":\n",
    "            result = num1 + num2\n",
    "        elif operation == \"-\":\n",
    "            result = num1 - num2\n",
    "        elif operation == \"*\":\n",
    "            result = num1 * num2\n",
    "        elif operation == \"/\":\n",
    "            result = num1 / num2\n",
    "        else:\n",
    "            result = \"Invalid operation\"\n",
    "\n",
    "        label_result.config(text=str(result))\n",
    "    except ValueError:\n",
    "        label_result.config(text=\"Invalid input\")\n",
    "\n",
    "# Create the main window\n",
    "window = tk.Tk()\n",
    "window.title(\"Simple Calculator\")\n",
    "\n",
    "# Create input fields and labels\n",
    "label_num1 = tk.Label(window, text=\"Number 1:\")\n",
    "label_num1.pack()\n",
    "\n",
    "entry_num1 = tk.Entry(window)\n",
    "entry_num1.pack()\n",
    "\n",
    "label_num2 = tk.Label(window, text=\"Number 2:\")\n",
    "label_num2.pack()\n",
    "\n",
    "entry_num2 = tk.Entry(window)\n",
    "entry_num2.pack()\n",
    "\n",
    "# Create operation selection dropdown\n",
    "label_operation = tk.Label(window, text=\"Operation:\")\n",
    "label_operation.pack()\n",
    "\n",
    "operations = [\"+\", \"-\", \"*\", \"/\"]\n",
    "combo_operation = ttk.Combobox(window, values=operations)\n",
    "combo_operation.pack()\n",
    "\n",
    "# Create calculate button\n",
    "button_calculate = tk.Button(window, text=\"Calculate\", command=calculate)\n",
    "button_calculate.pack()\n",
    "\n",
    "# Create label for displaying result\n",
    "label_result = tk.Label(window, text=\"Result:\")\n",
    "label_result.pack()\n",
    "\n",
    "# Run the main event loop\n",
    "window.mainloop()\n"
   ]
  },
  {
   "cell_type": "code",
   "execution_count": null,
   "id": "959252f2",
   "metadata": {},
   "outputs": [],
   "source": []
  }
 ],
 "metadata": {
  "kernelspec": {
   "display_name": "Python 3 (ipykernel)",
   "language": "python",
   "name": "python3"
  },
  "language_info": {
   "codemirror_mode": {
    "name": "ipython",
    "version": 3
   },
   "file_extension": ".py",
   "mimetype": "text/x-python",
   "name": "python",
   "nbconvert_exporter": "python",
   "pygments_lexer": "ipython3",
   "version": "3.10.9"
  }
 },
 "nbformat": 4,
 "nbformat_minor": 5
}
