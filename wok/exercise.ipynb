{
 "cells": [
  {
   "cell_type": "code",
   "execution_count": 2,
   "id": "fb0e5dac",
   "metadata": {},
   "outputs": [
    {
     "name": "stdout",
     "output_type": "stream",
     "text": [
      "Emily\n"
     ]
    }
   ],
   "source": [
    "names = [\"John\", \"Emily\", \"Michael\", \"Sarah\", \"David\"]\n",
    "names = [\"John\", \"Emily\", \"Michael\", \"Sarah\", \"David\"]\n",
    "print(names[1])  # Outputs \"Emily\"\n",
    "\n"
   ]
  },
  {
   "cell_type": "code",
   "execution_count": 3,
   "id": "7b10f9c0",
   "metadata": {},
   "outputs": [
    {
     "name": "stdout",
     "output_type": "stream",
     "text": [
      "['Robert', 'Emily', 'Michael', 'Sarah', 'David']\n"
     ]
    }
   ],
   "source": [
    "names = [\"John\", \"Emily\", \"Michael\", \"Sarah\", \"David\"]\n",
    "names[0] = \"Robert\"\n",
    "print(names)  # Outputs [\"Robert\", \"Emily\", \"Michael\", \"Sarah\", \"David\"]\n"
   ]
  },
  {
   "cell_type": "code",
   "execution_count": 4,
   "id": "bacc311b",
   "metadata": {},
   "outputs": [
    {
     "name": "stdout",
     "output_type": "stream",
     "text": [
      "['John', 'Emily', 'Michael', 'Sarah', 'David', 'Olivia']\n"
     ]
    }
   ],
   "source": [
    "names = [\"John\", \"Emily\", \"Michael\", \"Sarah\", \"David\"]\n",
    "names.append(\"Olivia\")\n",
    "print(names)  # Outputs [\"John\", \"Emily\", \"Michael\", \"Sarah\", \"David\", \"Olivia\"]\n"
   ]
  },
  {
   "cell_type": "code",
   "execution_count": 5,
   "id": "9f3ceb32",
   "metadata": {},
   "outputs": [
    {
     "name": "stdout",
     "output_type": "stream",
     "text": [
      "['John', 'Emily', 'Bathel', 'Michael', 'Sarah', 'David']\n"
     ]
    }
   ],
   "source": [
    "names = [\"John\", \"Emily\", \"Michael\", \"Sarah\", \"David\"]\n",
    "names.insert(2, \"Bathel\")\n",
    "print(names)  # Outputs [\"John\", \"Emily\", \"Bathel\", \"Michael\", \"Sarah\", \"David\"]\n"
   ]
  },
  {
   "cell_type": "code",
   "execution_count": 6,
   "id": "8060d3a7",
   "metadata": {},
   "outputs": [
    {
     "name": "stdout",
     "output_type": "stream",
     "text": [
      "['John', 'Emily', 'Michael', 'David']\n"
     ]
    }
   ],
   "source": [
    "names = [\"John\", \"Emily\", \"Michael\", \"Sarah\", \"David\"]\n",
    "del names[3]\n",
    "print(names)  # Outputs [\"John\", \"Emily\", \"Michael\", \"David\"]\n"
   ]
  },
  {
   "cell_type": "code",
   "execution_count": 7,
   "id": "e26db38a",
   "metadata": {},
   "outputs": [
    {
     "name": "stdout",
     "output_type": "stream",
     "text": [
      "David\n"
     ]
    }
   ],
   "source": [
    "#Use negative indexing to print the last item in your list\n",
    "names = [\"John\", \"Emily\", \"Michael\", \"Sarah\", \"David\"]\n",
    "print(names[-1])  # Outputs \"David\"\n"
   ]
  },
  {
   "cell_type": "code",
   "execution_count": 8,
   "id": "5d216416",
   "metadata": {},
   "outputs": [
    {
     "name": "stdout",
     "output_type": "stream",
     "text": [
      "['Orange', 'Grape', 'Mango']\n"
     ]
    }
   ],
   "source": [
    "#Creating a new list with 7 items and printing the 3rd, 4th, and 5th items\n",
    "new_list = [\"Apple\", \"Banana\", \"Orange\", \"Grape\", \"Mango\", \"Pineapple\", \"Cherry\"]\n",
    "print(new_list[2:5])  # Outputs [\"Orange\", \"Grape\", \"Mango\"]\n"
   ]
  },
  {
   "cell_type": "code",
   "execution_count": 10,
   "id": "d65566f9",
   "metadata": {},
   "outputs": [
    {
     "name": "stdout",
     "output_type": "stream",
     "text": [
      "['USA', 'Canada', 'France', 'Germany', 'Japan']\n",
      "['USA', 'Canada', 'France', 'Germany', 'Japan']\n"
     ]
    }
   ],
   "source": [
    "countries = [\"USA\", \"Canada\", \"France\", \"Germany\", \"Japan\"]\n",
    "countries_copy = countries.copy()\n",
    "\n",
    "print(countries)        # Original list: [\"USA\", \"Canada\", \"France\", \"Germany\", \"Japan\"]\n",
    "print(countries_copy)   # Copied list: [\"USA\", \"Canada\", \"France\", \"Germany\", \"Japan\"]\n",
    "\n",
    "\n",
    "\n"
   ]
  },
  {
   "cell_type": "code",
   "execution_count": 11,
   "id": "e6f50e45",
   "metadata": {},
   "outputs": [
    {
     "name": "stdout",
     "output_type": "stream",
     "text": [
      "USA\n",
      "Canada\n",
      "France\n",
      "Germany\n",
      "Japan\n"
     ]
    }
   ],
   "source": [
    "countries = [\"USA\", \"Canada\", \"France\", \"Germany\", \"Japan\"]\n",
    "for country in countries:\n",
    "    print(country)"
   ]
  },
  {
   "cell_type": "code",
   "execution_count": 12,
   "id": "fc82c39e",
   "metadata": {},
   "outputs": [
    {
     "name": "stdout",
     "output_type": "stream",
     "text": [
      "['Elephant', 'Giraffe', 'Lion', 'Tiger', 'Zebra']\n",
      "['Zebra', 'Tiger', 'Lion', 'Giraffe', 'Elephant']\n"
     ]
    }
   ],
   "source": [
    "#Write a list of animal names and sort them in both descending and ascending order.\n",
    "\n",
    "animals = [\"Elephant\", \"Tiger\", \"Lion\", \"Giraffe\", \"Zebra\"]\n",
    "ascending_order = sorted(animals)\n",
    "descending_order = sorted(animals, reverse=True)\n",
    "\n",
    "print(ascending_order)   # Outputs [\"Elephant\", \"Giraffe\", \"Lion\", \"Tiger\", \"Zebra\"]\n",
    "print(descending_order)  # Outputs [\"Zebra\", \"Tiger\", \"Lion\", \"Giraffe\", \"Elephant\"]\n"
   ]
  },
  {
   "cell_type": "code",
   "execution_count": 13,
   "id": "e98cb94f",
   "metadata": {},
   "outputs": [
    {
     "name": "stdout",
     "output_type": "stream",
     "text": [
      "Animal names with the letter 'a': ['elephant', 'giraffe', 'zebra']\n"
     ]
    }
   ],
   "source": [
    "animal_names = ['lion', 'elephant', 'tiger', 'giraffe', 'zebra']\n",
    "names_with_a = [name for name in animal_names if 'a' in name]\n",
    "\n",
    "print(\"Animal names with the letter 'a':\", names_with_a)\n"
   ]
  },
  {
   "cell_type": "code",
   "execution_count": 14,
   "id": "84845221",
   "metadata": {},
   "outputs": [
    {
     "name": "stdout",
     "output_type": "stream",
     "text": [
      "Full Names: ['John Doe', 'Jane Smith', 'David Johnson']\n"
     ]
    }
   ],
   "source": [
    "first_names = ['John', 'Jane', 'David']\n",
    "second_names = ['Doe', 'Smith', 'Johnson']\n",
    "\n",
    "full_names = [first + ' ' + second for first, second in zip(first_names, second_names)]\n",
    "\n",
    "print(\"Full Names:\", full_names)\n"
   ]
  },
  {
   "cell_type": "code",
   "execution_count": 16,
   "id": "00a06ac8",
   "metadata": {},
   "outputs": [
    {
     "name": "stdout",
     "output_type": "stream",
     "text": [
      "iphone\n"
     ]
    }
   ],
   "source": [
    "#exercise no 2\n",
    "\n",
    "x = (\"samsung\", \"iphone\", \"tecno\", \"redmi\")\n",
    "print(x[1])  # Outputs \"iphone\"\n"
   ]
  },
  {
   "cell_type": "code",
   "execution_count": 17,
   "id": "4e9fd5af",
   "metadata": {},
   "outputs": [
    {
     "name": "stdout",
     "output_type": "stream",
     "text": [
      "4\n",
      "4\n"
     ]
    }
   ],
   "source": [
    "my_tuple = (1, 2, 3, 4, 5)\n",
    "\n",
    "\n",
    "print( my_tuple[-2])\n"
   ]
  },
  {
   "cell_type": "code",
   "execution_count": 18,
   "id": "29779093",
   "metadata": {},
   "outputs": [
    {
     "name": "stdout",
     "output_type": "stream",
     "text": [
      "Updated tuple: ('samsung', 'itel', 'tecno', 'redmi')\n"
     ]
    }
   ],
   "source": [
    "#  Update \"iphone\" to \"itel\"\n",
    "x = list(x)  # Convert tuple to a list to modify it\n",
    "index = x.index(\"iphone\")\n",
    "x[index] = \"itel\"\n",
    "x = tuple(x)  # Convert the list back to a tuple\n",
    "print(\"Updated tuple:\", x)"
   ]
  },
  {
   "cell_type": "code",
   "execution_count": 19,
   "id": "ad75910c",
   "metadata": {},
   "outputs": [
    {
     "name": "stdout",
     "output_type": "stream",
     "text": [
      "Updated tuple: ('samsung', 'iphone', 'tecno', 'redmi', 'Huawei')\n"
     ]
    }
   ],
   "source": [
    "x = (\"samsung\", \"iphone\", \"tecno\", \"redmi\")\n",
    "new_tuple = x + (\"Huawei\",)\n",
    "\n",
    "print(\"Updated tuple:\", new_tuple)\n"
   ]
  },
  {
   "cell_type": "code",
   "execution_count": 21,
   "id": "66aa8c7e",
   "metadata": {},
   "outputs": [
    {
     "name": "stdout",
     "output_type": "stream",
     "text": [
      "Looping through the tuple:\n",
      "samsung\n",
      "iphone\n",
      "tecno\n",
      "redmi\n",
      "Tuple after removing the first item: ('iphone', 'tecno', 'redmi')\n",
      "Tuple of cities in Uganda: ('Kampala', 'Entebbe', 'Jinja', 'Gulu')\n"
     ]
    }
   ],
   "source": [
    "# Task 4: Loop through the tuple\n",
    "x = (\"samsung\", \"iphone\", \"tecno\", \"redmi\")\n",
    "\n",
    "print(\"Looping through the tuple:\")\n",
    "for item in x:\n",
    "    print(item)\n",
    "\n",
    "# Task 6: Remove the first item in the tuple\n",
    "x = x[1:]\n",
    "print(\"Tuple after removing the first item:\", x)\n",
    "\n",
    "# Task 7: Create a tuple of cities in Uganda using the tuple() constructor\n",
    "uganda_cities = tuple([\"Kampala\", \"Entebbe\", \"Jinja\", \"Gulu\"])\n",
    "print(\"Tuple of cities in Uganda:\", uganda_cities)\n",
    "\n"
   ]
  },
  {
   "cell_type": "code",
   "execution_count": 23,
   "id": "0fbc97b0",
   "metadata": {},
   "outputs": [
    {
     "name": "stdout",
     "output_type": "stream",
     "text": [
      "Unpacked brands:\n",
      "Brand 1: samsung\n",
      "Brand 2: iphone\n",
      "Brand 3: tecno\n",
      "Brand 4: redmi\n"
     ]
    }
   ],
   "source": [
    "# Unpacking the tuple\n",
    "x = (\"samsung\", \"iphone\", \"tecno\", \"redmi\")\n",
    "\n",
    "# Unpack the tuple into separate variables\n",
    "brand1, brand2, brand3, brand4 = x\n",
    "\n",
    "# Print the unpacked variables\n",
    "print(\"Unpacked brands:\")\n",
    "print(\"Brand 1:\", brand1)\n",
    "print(\"Brand 2:\", brand2)\n",
    "print(\"Brand 3:\", brand3)\n",
    "print(\"Brand 4:\", brand4)\n"
   ]
  },
  {
   "cell_type": "code",
   "execution_count": 24,
   "id": "d4ad6eec",
   "metadata": {},
   "outputs": [
    {
     "name": "stdout",
     "output_type": "stream",
     "text": [
      "Cities: ('Entebbe', 'Jinja', 'Gulu')\n",
      "Full names: ('John', 'Jane', 'David', 'Doe', 'Smith', 'Johnson')\n",
      "Multiplied colors: ('red', 'blue', 'green', 'red', 'blue', 'green', 'red', 'blue', 'green')\n",
      "Number of times 8 appears: 2\n"
     ]
    }
   ],
   "source": [
    "# Task 8: Print the 2nd, 3rd, and 4th cities using a range of indexes\n",
    "uganda_cities = (\"Kampala\", \"Entebbe\", \"Jinja\", \"Gulu\")\n",
    "cities_range = uganda_cities[1:4]\n",
    "\n",
    "print(\"Cities:\", cities_range)\n",
    "\n",
    "# Task 9: Join two tuples containing first names and second names\n",
    "first_names = (\"John\", \"Jane\", \"David\")\n",
    "second_names = (\"Doe\", \"Smith\", \"Johnson\")\n",
    "full_names = first_names + second_names\n",
    "\n",
    "print(\"Full names:\", full_names)\n",
    "\n",
    "# Task 10: Create a tuple of colors and multiply it by 3\n",
    "colors = (\"red\", \"blue\", \"green\")\n",
    "multiplied_colors = colors * 3\n",
    "\n",
    "print(\"Multiplied colors:\", multiplied_colors)\n",
    "\n",
    "# Task 11: Count the number of times 8 appears in a tuple\n",
    "thistuple = (1, 3, 7, 8, 7, 5, 4, 6, 8, 5)\n",
    "count_eight = thistuple.count(8)\n",
    "\n",
    "print(\"Number of times 8 appears:\", count_eight)\n"
   ]
  },
  {
   "cell_type": "code",
   "execution_count": 29,
   "id": "07b4b18c",
   "metadata": {},
   "outputs": [
    {
     "name": "stdout",
     "output_type": "stream",
     "text": [
      "Favorite beverages: {'juice', 'coffee', 'tea'}\n",
      "Updated beverages: {'juice', 'coffee', 'water', 'milk', 'soda', 'tea'}\n",
      "Is 'microwave' present? True\n",
      "Updated set: {'oven', 'refrigerator', 'microwave'}\n",
      "Elements in the set:\n",
      "oven\n",
      "refrigerator\n",
      "microwave\n",
      "Updated set with list elements: {'pen', 'table', 'chair', 'paper', 'desk', 'lamp'}\n",
      "Joined set: {'John', 20, 40, 'David', 'Jane', 30}\n"
     ]
    }
   ],
   "source": [
    "#sets\n",
    "#  1: Create a set of 3 favorite beverages using the set() constructor\n",
    "beverages = set((\"coffee\", \"tea\", \"juice\"))\n",
    "\n",
    "print(\"Favorite beverages:\", beverages)\n",
    "\n",
    "# 2: Add 2 more items to the beverages set\n",
    "beverages.add(\"water\")\n",
    "beverages.update([\"soda\", \"milk\"])\n",
    "\n",
    "print(\"Updated beverages:\", beverages)\n",
    "\n",
    "#  3: Check if \"microwave\" is present in the set\n",
    "mySet = {\"oven\", \"kettle\", \"microwave\", \"refrigerator\"}\n",
    "is_microwave_present = \"microwave\" in mySet\n",
    "\n",
    "print(\"Is 'microwave' present?\", is_microwave_present)\n",
    "\n",
    "# 3: Remove \"kettle\" from the set\n",
    "mySet.remove(\"kettle\")\n",
    "\n",
    "print(\"Updated set:\", mySet)\n",
    "\n",
    "# Task 5: Loop through the set\n",
    "print(\"Elements in the set:\")\n",
    "for item in mySet:\n",
    "    print(item)\n",
    "\n",
    "# 6: Add elements from a list to a set\n",
    "mySet2 = {\"chair\", \"table\", \"lamp\", \"oscar\"}\n",
    "myList = [\"pen\", \"paper\"]\n",
    "mySet2.update(myList)\n",
    "\n",
    "print(\"Updated set with list elements:\", mySet2)\n",
    "\n",
    "#  7: Join two sets containing ages and first names\n",
    "ages = {20, 30, 40}\n",
    "first_names = {\"John\", \"Jane\", \"David\"}\n",
    "joined_set = ages.union(first_names)\n",
    "\n",
    "print(\"Joined set:\", joined_set)\n"
   ]
  },
  {
   "cell_type": "code",
   "execution_count": 30,
   "id": "d0d3d0c1",
   "metadata": {},
   "outputs": [
    {
     "name": "stdout",
     "output_type": "stream",
     "text": [
      "Concatenated string: 10 years old\n",
      "Stripped string: Hello, Uganda!\n",
      "Uppercase string:  HELLO, UGANDA! \n",
      "Replaced string:  Hello, Vganda! \n",
      "Range of characters:  am\n",
      "Corrected string: All \"Data Scientists\" are cool!\n"
     ]
    }
   ],
   "source": [
    "#string\n",
    "# 1: Concatenate an integer and a string\n",
    "num = 10\n",
    "text = \" years old\"\n",
    "concatenated = str(num) + text\n",
    "\n",
    "print(\"Concatenated string:\", concatenated)\n",
    "\n",
    "#  2: Output the string without spaces at the beginning, in the middle, and at the end\n",
    "txt = \" Hello, Uganda! \"\n",
    "stripped = txt.strip()\n",
    "\n",
    "print(\"Stripped string:\", stripped)\n",
    "\n",
    "#  3: Convert the value of 'txt' to uppercase\n",
    "uppercase_txt = txt.upper()\n",
    "\n",
    "print(\"Uppercase string:\", uppercase_txt)\n",
    "\n",
    "#  4: Replace character 'U' with 'V' in the string\n",
    "replaced_txt = txt.replace('U', 'V')\n",
    "\n",
    "print(\"Replaced string:\", replaced_txt)\n",
    "\n",
    "#  5: Return a range of characters in the 2nd, 3rd, and 4th position\n",
    "y = \"I am proudly Ugandan\"\n",
    "range_of_chars = y[1:4]\n",
    "\n",
    "print(\"Range of characters:\", range_of_chars)\n",
    "\n",
    "#  6: Correct the code that gives an error\n",
    "x = 'All \"Data Scientists\" are cool!'\n",
    "\n",
    "print(\"Corrected string:\", x)\n"
   ]
  },
  {
   "cell_type": "code",
   "execution_count": 31,
   "id": "52af84bc",
   "metadata": {},
   "outputs": [
    {
     "name": "stdout",
     "output_type": "stream",
     "text": [
      "Shoe size: 40\n",
      "Updated brand: Adidas\n",
      "Updated dictionary: {'brand': 'Adidas', 'color': 'black', 'size': 40, 'type': 'sneakers'}\n",
      "Keys: ['brand', 'color', 'size', 'type']\n",
      "Values: ['Adidas', 'black', 40, 'sneakers']\n",
      "Is 'size' key present? True\n",
      "Dictionary items:\n",
      "brand : Adidas\n",
      "color : black\n",
      "size : 40\n",
      "type : sneakers\n",
      "Updated dictionary: {'brand': 'Adidas', 'size': 40, 'type': 'sneakers'}\n",
      "Empty dictionary: {}\n",
      "Original dictionary: {'a': 1, 'b': 2, 'c': 3}\n",
      "Copy dictionary: {'a': 1, 'b': 2, 'c': 3}\n",
      "Nested dictionary: {'name': 'John', 'age': 30, 'address': {'street': '123 Main St', 'city': 'New York', 'country': 'USA'}}\n"
     ]
    }
   ],
   "source": [
    "# 1: Print the value of the shoe size\n",
    "Shoes = {\n",
    "    \"brand\": \"Nick\",\n",
    "    \"color\": \"black\",\n",
    "    \"size\": 40\n",
    "}\n",
    "\n",
    "print(\"Shoe size:\", Shoes[\"size\"])\n",
    "\n",
    "#  2: Change the value \"Nick\" to \"Adidas\"\n",
    "Shoes[\"brand\"] = \"Adidas\"\n",
    "\n",
    "print(\"Updated brand:\", Shoes[\"brand\"])\n",
    "\n",
    "#  3: Add a key/value pair \"type\": \"sneakers\" to the dictionary\n",
    "Shoes[\"type\"] = \"sneakers\"\n",
    "\n",
    "print(\"Updated dictionary:\", Shoes)\n",
    "\n",
    "#  4: Return a list of all the keys in the dictionary\n",
    "keys_list = list(Shoes.keys())\n",
    "\n",
    "print(\"Keys:\", keys_list)\n",
    "\n",
    "#  5: Return a list of all the values in the dictionary\n",
    "values_list = list(Shoes.values())\n",
    "\n",
    "print(\"Values:\", values_list)\n",
    "\n",
    "#  6: Check if the key \"size\" exists in the dictionary\n",
    "is_size_key_present = \"size\" in Shoes\n",
    "\n",
    "print(\"Is 'size' key present?\", is_size_key_present)\n",
    "\n",
    "#  7: Loop through the dictionary\n",
    "print(\"Dictionary items:\")\n",
    "for key, value in Shoes.items():\n",
    "    print(key, \":\", value)\n",
    "\n",
    "#  8: Remove \"color\" from the dictionary\n",
    "Shoes.pop(\"color\")\n",
    "\n",
    "print(\"Updated dictionary:\", Shoes)\n",
    "\n",
    "#  9: Empty the dictionary\n",
    "Shoes.clear()\n",
    "\n",
    "print(\"Empty dictionary:\", Shoes)\n",
    "\n",
    "#  10: Make a copy of a dictionary\n",
    "original_dict = {\"a\": 1, \"b\": 2, \"c\": 3}\n",
    "copy_dict = dict(original_dict)\n",
    "\n",
    "print(\"Original dictionary:\", original_dict)\n",
    "print(\"Copy dictionary:\", copy_dict)\n",
    "\n",
    "#  11: Nested dictionaries\n",
    "nested_dict = {\n",
    "    \"name\": \"John\",\n",
    "    \"age\": 30,\n",
    "    \"address\": {\n",
    "        \"street\": \"123 Main St\",\n",
    "        \"city\": \"New York\",\n",
    "        \"country\": \"USA\"\n",
    "    }\n",
    "}\n",
    "\n",
    "print(\"Nested dictionary:\", nested_dict)\n"
   ]
  },
  {
   "cell_type": "code",
   "execution_count": null,
   "id": "f57b19be",
   "metadata": {},
   "outputs": [],
   "source": []
  }
 ],
 "metadata": {
  "kernelspec": {
   "display_name": "Python 3 (ipykernel)",
   "language": "python",
   "name": "python3"
  },
  "language_info": {
   "codemirror_mode": {
    "name": "ipython",
    "version": 3
   },
   "file_extension": ".py",
   "mimetype": "text/x-python",
   "name": "python",
   "nbconvert_exporter": "python",
   "pygments_lexer": "ipython3",
   "version": "3.10.9"
  }
 },
 "nbformat": 4,
 "nbformat_minor": 5
}
