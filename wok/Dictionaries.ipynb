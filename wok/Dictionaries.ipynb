{
 "cells": [
  {
   "cell_type": "code",
   "execution_count": 2,
   "id": "e1fc9fca",
   "metadata": {},
   "outputs": [
    {
     "name": "stdout",
     "output_type": "stream",
     "text": [
      "{'name': 'Adam', 'age': 22, 'othername': 'Oscar'}\n"
     ]
    }
   ],
   "source": [
    "dictionary ={\n",
    "    \"name\": \"Adam\",\n",
    "    \"age\":22,\n",
    "    \"othername\": \"Oscar\"\n",
    "}\n",
    "print(dictionary)"
   ]
  },
  {
   "cell_type": "code",
   "execution_count": 9,
   "id": "ea668fbe",
   "metadata": {},
   "outputs": [
    {
     "name": "stdout",
     "output_type": "stream",
     "text": [
      "Ronaldo\n",
      "22\n",
      "MyCar\n",
      "21\n"
     ]
    }
   ],
   "source": [
    "dict = {\n",
    "    \"name\": \"Oscar Adam\",\n",
    "    \"age\": 22,\n",
    "    \"DateOfBirth\": 2001,\n",
    "    \"car\": \"MyCar\",\n",
    "    \"player\": \"Ronaldo\"\n",
    "}\n",
    "print(dict[\"player\"])\n",
    "print(dict[\"age\"])\n",
    "print(dict[\"car\"])\n",
    "dict[\"age\"] = 21\n",
    "print(dict[\"age\"])"
   ]
  },
  {
   "cell_type": "code",
   "execution_count": 10,
   "id": "ab3724c0",
   "metadata": {},
   "outputs": [
    {
     "name": "stdout",
     "output_type": "stream",
     "text": [
      "name\n",
      "age\n",
      "DateOfBirth\n",
      "car\n",
      "player\n"
     ]
    }
   ],
   "source": [
    "for x in dict:\n",
    "    print(x)"
   ]
  },
  {
   "cell_type": "code",
   "execution_count": 11,
   "id": "10df345f",
   "metadata": {},
   "outputs": [
    {
     "name": "stdout",
     "output_type": "stream",
     "text": [
      "Oscar Adam\n",
      "21\n",
      "2001\n",
      "MyCar\n",
      "Ronaldo\n"
     ]
    }
   ],
   "source": [
    "for x in dict.values():\n",
    "    print(x)"
   ]
  },
  {
   "cell_type": "code",
   "execution_count": 12,
   "id": "da2de116",
   "metadata": {},
   "outputs": [
    {
     "name": "stdout",
     "output_type": "stream",
     "text": [
      "name Oscar Adam\n",
      "age 21\n",
      "DateOfBirth 2001\n",
      "car MyCar\n",
      "player Ronaldo\n"
     ]
    }
   ],
   "source": [
    "for x, y in dict.items():\n",
    "    print(x,y)"
   ]
  },
  {
   "cell_type": "code",
   "execution_count": 17,
   "id": "075ae9e8",
   "metadata": {},
   "outputs": [
    {
     "ename": "TypeError",
     "evalue": "'dict' object is not callable",
     "output_type": "error",
     "traceback": [
      "\u001b[1;31m---------------------------------------------------------------------------\u001b[0m",
      "\u001b[1;31mTypeError\u001b[0m                                 Traceback (most recent call last)",
      "Cell \u001b[1;32mIn[17], line 3\u001b[0m\n\u001b[0;32m      1\u001b[0m \u001b[38;5;66;03m#use of disct() constractor instead of the other bracket\u001b[39;00m\n\u001b[1;32m----> 3\u001b[0m my_dict \u001b[38;5;241m=\u001b[39m \u001b[38;5;28;43mdict\u001b[39;49m\u001b[43m(\u001b[49m\u001b[43mname\u001b[49m\u001b[38;5;241;43m=\u001b[39;49m\u001b[38;5;124;43m\"\u001b[39;49m\u001b[38;5;124;43mOscar\u001b[39;49m\u001b[38;5;124;43m\"\u001b[39;49m\u001b[43m,\u001b[49m\u001b[43m \u001b[49m\u001b[43mage\u001b[49m\u001b[38;5;241;43m=\u001b[39;49m\u001b[38;5;241;43m22\u001b[39;49m\u001b[43m)\u001b[49m\n\u001b[0;32m      4\u001b[0m \u001b[38;5;28mprint\u001b[39m(my_dict)\n",
      "\u001b[1;31mTypeError\u001b[0m: 'dict' object is not callable"
     ]
    }
   ],
   "source": [
    "#use of disct() constractor instead of the other bracket\n",
    "\n",
    "my_dict = dict(name=\"Oscar\", age=22)\n",
    "print(my_dict)\n"
   ]
  },
  {
   "cell_type": "code",
   "execution_count": 18,
   "id": "cde287b0",
   "metadata": {},
   "outputs": [
    {
     "name": "stdout",
     "output_type": "stream",
     "text": [
      "Please enter your mental health rating (on a scale of 1-10) for the morning: 2\n",
      "I'm sorry to hear that. Reach out for support if needed.\n"
     ]
    }
   ],
   "source": [
    "rating = int(input(\"Please enter your mental health rating (on a scale of 1-10) for the morning: \"))\n",
    "\n",
    "if rating >= 7:\n",
    "    print(\"That's great! Keep up the positive mindset!\")\n",
    "elif rating >= 4:\n",
    "    print(\"It seems like an average day. Take care of yourself!\")\n",
    "else:\n",
    "    print(\"I'm sorry to hear that. Reach out for support if needed.\")\n"
   ]
  },
  {
   "cell_type": "code",
   "execution_count": null,
   "id": "6cba8aa5",
   "metadata": {},
   "outputs": [],
   "source": []
  },
  {
   "cell_type": "code",
   "execution_count": null,
   "id": "bb6666dc",
   "metadata": {},
   "outputs": [],
   "source": []
  },
  {
   "cell_type": "code",
   "execution_count": null,
   "id": "98143bcc",
   "metadata": {},
   "outputs": [],
   "source": [
    "fruits=[\"Apple\",\"Mango\",\"Orange\",\"Grapes\"]\n",
    "fruit_count=0\n",
    "while fruit_count<len(fruits):\n",
    "print(fruits[fruit_count])\n",
    "    fruit_count +=1\n",
    "    "
   ]
  },
  {
   "cell_type": "code",
   "execution_count": null,
   "id": "a2dbf733",
   "metadata": {},
   "outputs": [],
   "source": []
  }
 ],
 "metadata": {
  "kernelspec": {
   "display_name": "Python 3 (ipykernel)",
   "language": "python",
   "name": "python3"
  },
  "language_info": {
   "codemirror_mode": {
    "name": "ipython",
    "version": 3
   },
   "file_extension": ".py",
   "mimetype": "text/x-python",
   "name": "python",
   "nbconvert_exporter": "python",
   "pygments_lexer": "ipython3",
   "version": "3.10.9"
  }
 },
 "nbformat": 4,
 "nbformat_minor": 5
}
