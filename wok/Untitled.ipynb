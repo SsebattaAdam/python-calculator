{
 "cells": [
  {
   "cell_type": "code",
   "execution_count": 1,
   "id": "a9d606f6",
   "metadata": {},
   "outputs": [
    {
     "name": "stdout",
     "output_type": "stream",
     "text": [
      "23\n",
      "hey my dear\n",
      "54\n"
     ]
    }
   ],
   "source": [
    "x, y,w = 23,\"hey my dear\", 54\n",
    "\n",
    "print(x)\n",
    "print(y)\n",
    "print(w)"
   ]
  },
  {
   "cell_type": "code",
   "execution_count": 2,
   "id": "e94520b4",
   "metadata": {},
   "outputs": [
    {
     "name": "stdout",
     "output_type": "stream",
     "text": [
      "hey am now 22\n"
     ]
    }
   ],
   "source": [
    "if 4 >3: print(\"hey am now 22\")"
   ]
  },
  {
   "cell_type": "code",
   "execution_count": 4,
   "id": "320a0fe0",
   "metadata": {},
   "outputs": [
    {
     "name": "stdout",
     "output_type": "stream",
     "text": [
      "77\n"
     ]
    }
   ],
   "source": [
    "print (x + w)"
   ]
  },
  {
   "cell_type": "code",
   "execution_count": 7,
   "id": "fd31612e",
   "metadata": {},
   "outputs": [
    {
     "name": "stdout",
     "output_type": "stream",
     "text": [
      " Adam is hungry naye mama hey my dear\n"
     ]
    }
   ],
   "source": [
    "print(\" Adam is hungry naye mama \" + y)"
   ]
  },
  {
   "cell_type": "code",
   "execution_count": 11,
   "id": "530e0b25",
   "metadata": {},
   "outputs": [
    {
     "name": "stdout",
     "output_type": "stream",
     "text": [
      "This is a global variable hey there\n"
     ]
    }
   ],
   "source": [
    "x = \"hey there\"\n",
    "def myfunct():\n",
    "    print(\"This is a global variable \" + x)\n",
    "    \n",
    "myfunct()\n",
    "    \n"
   ]
  },
  {
   "cell_type": "code",
   "execution_count": 16,
   "id": "433adbac",
   "metadata": {},
   "outputs": [
    {
     "name": "stdout",
     "output_type": "stream",
     "text": [
      "45\n",
      "45\n"
     ]
    }
   ],
   "source": [
    "#to create a global variable iunside a function, we use the global key word\n",
    "def funct():\n",
    "    global x\n",
    "    x =23\n",
    "    global y\n",
    "    y =22\n",
    "    print(x+y)\n",
    "    \n",
    "funct()\n",
    "print( x+y)"
   ]
  },
  {
   "cell_type": "code",
   "execution_count": 17,
   "id": "3c70d433",
   "metadata": {},
   "outputs": [
    {
     "name": "stdout",
     "output_type": "stream",
     "text": [
      "<class 'int'>\n"
     ]
    }
   ],
   "source": [
    "print(type(x))"
   ]
  },
  {
   "cell_type": "code",
   "execution_count": 18,
   "id": "ba80b5b3",
   "metadata": {},
   "outputs": [
    {
     "name": "stdout",
     "output_type": "stream",
     "text": [
      "e\n"
     ]
    }
   ],
   "source": [
    "a = \"Hello, World!\"\n",
    "print(a[1])"
   ]
  },
  {
   "cell_type": "code",
   "execution_count": 19,
   "id": "33c55e5c",
   "metadata": {},
   "outputs": [
    {
     "name": "stdout",
     "output_type": "stream",
     "text": [
      "[2, 4, 6, 7, 8, 9]\n"
     ]
    }
   ],
   "source": [
    "#a dictionary is a collection which is unordered\n",
    "#a list is ordered but changeable\n",
    "# a set is a collection of ordered elemnets, which can be not be repeated \n",
    "\n",
    "\n",
    "alist= [2,4,6,7,8,9]\n",
    "print(alist)\n"
   ]
  },
  {
   "cell_type": "code",
   "execution_count": 20,
   "id": "8e7f13d3",
   "metadata": {},
   "outputs": [
    {
     "name": "stdout",
     "output_type": "stream",
     "text": [
      "7\n"
     ]
    }
   ],
   "source": [
    "print(alist[-3])"
   ]
  },
  {
   "cell_type": "code",
   "execution_count": 22,
   "id": "96de5fc8",
   "metadata": {},
   "outputs": [
    {
     "name": "stdout",
     "output_type": "stream",
     "text": [
      "[2, 4, 6, 7, 8, 9, 'd', 'c', 'y']\n"
     ]
    }
   ],
   "source": [
    "list2 =[\"d\",\"c\",\"y\"]\n",
    "listMarged = alist + list2\n",
    "print(listMarged)"
   ]
  },
  {
   "cell_type": "code",
   "execution_count": 24,
   "id": "22d97c30",
   "metadata": {},
   "outputs": [
    {
     "name": "stdout",
     "output_type": "stream",
     "text": [
      "None\n"
     ]
    }
   ],
   "source": [
    "print(listMarged.append(22))"
   ]
  },
  {
   "cell_type": "code",
   "execution_count": 25,
   "id": "0608b469",
   "metadata": {},
   "outputs": [
    {
     "name": "stdout",
     "output_type": "stream",
     "text": [
      "2\n",
      "4\n",
      "6\n",
      "7\n",
      "8\n",
      "9\n",
      "d\n",
      "c\n",
      "y\n",
      "22\n"
     ]
    }
   ],
   "source": [
    "for x in listMarged:\n",
    "    print(x)\n",
    "    "
   ]
  },
  {
   "cell_type": "code",
   "execution_count": 28,
   "id": "2239319e",
   "metadata": {},
   "outputs": [
    {
     "name": "stdout",
     "output_type": "stream",
     "text": [
      "2\n",
      "4\n",
      "5\n",
      "6\n",
      "7\n",
      "8\n"
     ]
    }
   ],
   "source": [
    "thisturple = [2,4,5,6,7,8]\n",
    "for x in thisturple:\n",
    "    print(x)\n"
   ]
  },
  {
   "cell_type": "code",
   "execution_count": 29,
   "id": "89cd77a7",
   "metadata": {},
   "outputs": [
    {
     "name": "stdout",
     "output_type": "stream",
     "text": [
      "6\n"
     ]
    }
   ],
   "source": [
    "print(len(thisturple))"
   ]
  },
  {
   "cell_type": "code",
   "execution_count": 1,
   "id": "ecd928c4",
   "metadata": {},
   "outputs": [
    {
     "name": "stdout",
     "output_type": "stream",
     "text": [
      "2\n",
      "4\n",
      "5\n",
      "6\n",
      "7\n",
      "8\n",
      "9\n"
     ]
    }
   ],
   "source": [
    "thiset ={2,4,5,6,7,8,9}\n",
    "for x in thiset:\n",
    "    print(x)"
   ]
  },
  {
   "cell_type": "code",
   "execution_count": 2,
   "id": "e81a7396",
   "metadata": {},
   "outputs": [
    {
     "name": "stdout",
     "output_type": "stream",
     "text": [
      "{2, 4, 5, 6, 7, 8, 9}\n"
     ]
    }
   ],
   "source": [
    "print(thiset)"
   ]
  },
  {
   "cell_type": "code",
   "execution_count": 3,
   "id": "175a9ff2",
   "metadata": {},
   "outputs": [
    {
     "name": "stdout",
     "output_type": "stream",
     "text": [
      "{2, 4, 5, 6, 7, 8}\n"
     ]
    }
   ],
   "source": [
    "thisset={2,4,5,6,6,7,8}\n",
    "print(thisset)"
   ]
  },
  {
   "cell_type": "code",
   "execution_count": 4,
   "id": "8af177de",
   "metadata": {},
   "outputs": [
    {
     "name": "stdout",
     "output_type": "stream",
     "text": [
      "{2, 4, 5, 6, 7, 8, 9, 10}\n"
     ]
    }
   ],
   "source": [
    "thiset.add(10)\n",
    "print(thiset)"
   ]
  },
  {
   "cell_type": "code",
   "execution_count": 5,
   "id": "529ef0a5",
   "metadata": {},
   "outputs": [
    {
     "name": "stdout",
     "output_type": "stream",
     "text": [
      "{2, 3, 100, 69, 67, 4, 9, 89}\n"
     ]
    }
   ],
   "source": [
    "set1 ={2,4,67,89,9}\n",
    "set2 ={3,2,69,100}\n",
    "set3 =set2.union(set1)\n",
    "print(set3)"
   ]
  },
  {
   "cell_type": "code",
   "execution_count": 32,
   "id": "5ad576d9",
   "metadata": {},
   "outputs": [
    {
     "name": "stdout",
     "output_type": "stream",
     "text": [
      "the reverse is true, b is greate a\n"
     ]
    }
   ],
   "source": [
    "a = 34\n",
    "b = 65\n",
    "if a > b:\n",
    "    print (\"a is greater b\")\n",
    "elif b > a:\n",
    "    print(\"the reverse is true, b is greate a\")"
   ]
  },
  {
   "cell_type": "code",
   "execution_count": 29,
   "id": "8380cedf",
   "metadata": {},
   "outputs": [
    {
     "name": "stdout",
     "output_type": "stream",
     "text": [
      "a and b are equal\n"
     ]
    }
   ],
   "source": [
    "a = 33\n",
    "b = 33\n",
    "if b > a:\n",
    "  print(\"b is greater than a\")\n",
    "elif a == b:\n",
    "  print(\"a and b are equal\")"
   ]
  },
  {
   "cell_type": "code",
   "execution_count": 31,
   "id": "5a0e3444",
   "metadata": {},
   "outputs": [
    {
     "name": "stdout",
     "output_type": "stream",
     "text": [
      "hey my freinf\n"
     ]
    }
   ],
   "source": [
    "a = 23\n",
    "b = 76\n",
    "if a > b:\n",
    "   print(\"they syolll\")\n",
    "elif a<b:\n",
    "    print(\"hey my freinf\")"
   ]
  },
  {
   "cell_type": "code",
   "execution_count": 39,
   "id": "0d59b688",
   "metadata": {},
   "outputs": [
    {
     "name": "stdout",
     "output_type": "stream",
     "text": [
      "2\n",
      "3\n",
      "4\n"
     ]
    }
   ],
   "source": [
    "x=2\n",
    "while(x<5):\n",
    "    print(x)\n",
    "    x +=1"
   ]
  },
  {
   "cell_type": "code",
   "execution_count": 45,
   "id": "6833cb20",
   "metadata": {},
   "outputs": [
    {
     "name": "stdout",
     "output_type": "stream",
     "text": [
      "2\n",
      "4\n",
      "6\n",
      "8\n"
     ]
    }
   ],
   "source": [
    "x= 2\n",
    "while(x<17):\n",
    "    print(x)\n",
    "    if(x==8):\n",
    "      break\n",
    "    x +=2"
   ]
  },
  {
   "cell_type": "code",
   "execution_count": 46,
   "id": "b7795f32",
   "metadata": {},
   "outputs": [
    {
     "name": "stdout",
     "output_type": "stream",
     "text": [
      "2\n",
      "5\n",
      "7\n",
      "8\n",
      "9\n",
      "10\n"
     ]
    }
   ],
   "source": [
    "str =(2,5,7,8,9,10)\n",
    "for x in str:\n",
    "    print(x)"
   ]
  },
  {
   "cell_type": "code",
   "execution_count": 2,
   "id": "dea3edcb",
   "metadata": {},
   "outputs": [
    {
     "name": "stdout",
     "output_type": "stream",
     "text": [
      "2\n",
      "3\n",
      "3.0\n"
     ]
    }
   ],
   "source": [
    "#specifying the datatype\n",
    "x=str(\"2\")\n",
    "y=int(3)\n",
    "z=float(3)\n",
    "print(x)\n",
    "print(y)\n",
    "print(z)"
   ]
  },
  {
   "cell_type": "code",
   "execution_count": 53,
   "id": "a7e5fe75",
   "metadata": {},
   "outputs": [
    {
     "name": "stdout",
     "output_type": "stream",
     "text": [
      "Enter your first name adam\n",
      "enter ur last name oscar\n",
      "Your name is adam oscar\n"
     ]
    }
   ],
   "source": [
    "fname = input(\"Enter your first name \")\n",
    "lastname =input(\"enter ur last name \")\n",
    "def urname(fname,lastname):\n",
    "    print(\"Your name is \" + fname , lastname)\n",
    "urname(fname, lastname)"
   ]
  },
  {
   "cell_type": "code",
   "execution_count": 8,
   "id": "036cc126",
   "metadata": {},
   "outputs": [
    {
     "name": "stdout",
     "output_type": "stream",
     "text": [
      "Runnin python script\n",
      "Adam\n",
      "22\n",
      "2\n",
      "3\n",
      "3.0\n"
     ]
    },
    {
     "ename": "NameError",
     "evalue": "name 'eg' is not defined",
     "output_type": "error",
     "traceback": [
      "\u001b[1;31m---------------------------------------------------------------------------\u001b[0m",
      "\u001b[1;31mNameError\u001b[0m                                 Traceback (most recent call last)",
      "Cell \u001b[1;32mIn[8], line 48\u001b[0m\n\u001b[0;32m     31\u001b[0m \u001b[38;5;124;03m\"\"\"\u001b[39;00m\n\u001b[0;32m     32\u001b[0m \u001b[38;5;124;03mNumeric values are 1-10\u001b[39;00m\n\u001b[0;32m     33\u001b[0m \u001b[38;5;124;03mNumeric takes two forms:\u001b[39;00m\n\u001b[1;32m   (...)\u001b[0m\n\u001b[0;32m     42\u001b[0m \u001b[38;5;124;03mSequence Types\u001b[39;00m\n\u001b[0;32m     43\u001b[0m \u001b[38;5;124;03m\"\"\"\u001b[39;00m\n\u001b[0;32m     44\u001b[0m \u001b[38;5;124;03m\"\"\"\u001b[39;00m\n\u001b[0;32m     45\u001b[0m \u001b[38;5;124;03mlist  is a collection which is ordered and changeable. Allows duplicate members.\u001b[39;00m\n\u001b[0;32m     46\u001b[0m \u001b[38;5;124;03mit is enclosed with square brackets\"[]\" represented in ordered collection\u001b[39;00m\n\u001b[0;32m     47\u001b[0m \u001b[38;5;124;03m\"\"\"\u001b[39;00m\n\u001b[1;32m---> 48\u001b[0m \u001b[43meg\u001b[49m \n\u001b[0;32m     49\u001b[0m alist\u001b[38;5;241m=\u001b[39m [\u001b[38;5;241m2\u001b[39m,\u001b[38;5;241m4\u001b[39m,\u001b[38;5;241m6\u001b[39m,\u001b[38;5;241m7\u001b[39m,\u001b[38;5;241m8\u001b[39m,\u001b[38;5;241m9\u001b[39m]\n\u001b[0;32m     50\u001b[0m \u001b[38;5;28mprint\u001b[39m(alist)\n",
      "\u001b[1;31mNameError\u001b[0m: name 'eg' is not defined"
     ]
    }
   ],
   "source": [
    "#Running python sripts\n",
    "print('Runnin python script')\n",
    "#PEP8 python guidelines\n",
    "  #indentation\n",
    "  #characters dont ecxeed 79\n",
    "  #use underscore to separate words \n",
    "  #Snake_case\n",
    "  #CamelCase:This is a camel case version\n",
    "  \n",
    "  #comments\n",
    "  #This is a single line comment\n",
    " \n",
    "\"\"\"\n",
    "This is a multiline comment Multiline comments\n",
    "\"\"\"\n",
    " #Variables\n",
    "name=\"Adam\"\n",
    "age=22\n",
    "print(name)\n",
    "print(age)\n",
    "\n",
    "#specifying the datatype\n",
    "x=str(22)\n",
    "y=int(23)\n",
    "z=float(3)\n",
    "print(x)\n",
    "print(y)\n",
    "print(z)\n",
    "\n",
    "#DataStructures(Data types)\n",
    "\"\"\"\n",
    "Numeric values are 1-10\n",
    "Numeric takes two forms:\n",
    "intergers(int)\n",
    "float e.g pi=3.14\n",
    "\n",
    "Strings can be represented using single qoutes or double qoutes, e.g 'Adam' and \"Adam ssebatta\",Numbers in form of string eg \"10\",'4'\n",
    "\n",
    "Boolean values are logical values either True or False\n",
    "Booleans represent one of two values: True or False.\n",
    "\n",
    "Sequence Types\n",
    "\"\"\"\n",
    "\"\"\"\n",
    "list  is a collection which is ordered and changeable. Allows duplicate members.\n",
    "it is enclosed with square brackets\"[]\" represented in ordered collection\n",
    "\"\"\"\n",
    "eg \n",
    "alist= [2,4,6,7,8,9]\n",
    "print(alist)\n",
    "# you can accesss the members individually or by itterarting through\n",
    "#eg\n",
    "#accessing an a uniquie element\n",
    "print(alist[1])\n",
    "\n",
    "for x in alist:\n",
    "    print(z)\n",
    "\n",
    "\n",
    "\"\"\"\n",
    "\n",
    "tuple\n",
    "A tuple is a collection which is ordered and unchangeable. \n",
    "they enclosed with parentheses ()\n",
    "\n",
    "\"\"\"\n",
    "eg\n",
    "datuple = (2,4,5,6,7,8,9)\n",
    "print(datuple)\n",
    "\"\"\"\n",
    "can access tuple items by referring to the index number \n",
    "eg\n",
    "\"\"\"\n",
    "print(datuple[1])\n",
    "print(thistuple[3])\n",
    "\"\"\"\n",
    "a tuple can be change or alltered depending on what is need\n",
    "\"\"\"\n",
    "\n",
    "\n",
    "\"\"\"\n",
    "\n",
    "range-use iteration,loops\n",
    " the range() function is a built-in function used to generate a sequence of numbers from the start inclussive, to the last number not inclussive\n",
    " It returns an object that represents a sequence of numbers within a specified range. The range() function can be called with up to three arguments: range(start, stop, step).\n",
    "\n",
    "Here's an explanation of each argument:\n",
    "\n",
    "start (optional): The starting point of the range (inclusive). If not provided, it defaults to 0.\n",
    "stop (required): The ending point of the range (exclusive). It generates numbers up to, but not including, this value.\n",
    "step (optional): The increment or step size between the numbers. If not provided, it defaults to 1.\n",
    "The range() function returns an iterable object that can be used in various ways, such as in loops or in combination with other functions\n",
    "eg\n",
    "\n",
    "\"\"\"\n",
    "for num in range(5):\n",
    "    print(num)\n",
    "# the range(5) function generates a sequence of numbers from 0 to 4\n",
    "my_list = list(range(1, 6))\n",
    "print(my_list)\n",
    "\n",
    "\n",
    "\"\"\"\n",
    "Mapping types\n",
    "dict-dictionary is enclosed with cury brackets {}\n",
    "eg\n",
    "\"\"\"\n",
    "{ \n",
    "name: 'Adam',age:22\n",
    "}\n",
    "#or\n",
    "{name:'Jeff',age:30}\n",
    "\n",
    "item_dict = {\"Apple\": None, \"Mango\": None, \"Banana\": None}\n",
    "# unordered collection type,unique\n",
    "\n",
    "#None Types:None represents absence of a value\n",
    "\"\"\"\n",
    "\"\"\"\n",
    "\n",
    "hey=True\n",
    "print(hey)"
   ]
  },
  {
   "cell_type": "code",
   "execution_count": 4,
   "id": "3095450e",
   "metadata": {},
   "outputs": [
    {
     "name": "stdout",
     "output_type": "stream",
     "text": [
      "(2, 34, 5, 6, 7, 8)\n",
      "5\n",
      "5\n",
      "('samsag', 'Ipone', 'Techno', 'Iphone', 'Techo')\n",
      "4\n",
      "<class 'tuple'>\n",
      "('Rangerover', 'Benz', 'Ford', 'Tizi')\n",
      "('a', 'b', 'c', 1, 2, 3)\n",
      "red\n",
      "blue\n",
      "orage\n"
     ]
    }
   ],
   "source": [
    "#tuples\n",
    "#A tuple is a collection which is ordered and unchangeable\n",
    "#eg\n",
    "tple = (2,34,5,6,7,8)\n",
    "print(tple)\n",
    "\n",
    "\n",
    "\"\"\"\n",
    "Access Tuple Items\n",
    "You can access tuple items by referring to the index number, inside square brackets\n",
    "eg\n",
    "\"\"\"\n",
    "print(tple[2])\n",
    "\n",
    "\"\"\"\n",
    "or you can use negative indices to acces the items in the tuple\n",
    "Negative indexing means beginning from the end, -1 refers to the last item, -2\n",
    "eg\n",
    "\"\"\"\n",
    "print(tple[-4])\n",
    "\n",
    "#Allow duplicate values\n",
    "phones=(\"samsag\",\"Ipone\",\"Techno\",\"Iphone\",\"Techo\")\n",
    "print(phones)\n",
    "\"\"\"\n",
    "To use the len() function with a tuple, you can create a tuple called phones and then use len() to determine its length.\n",
    "In this example, the len() function is used to calculate the length of the phones tuple, which contains four elements. The result, 4, is then printed to the console.\n",
    "\n",
    "\"\"\"\n",
    "    \n",
    "phones = (\"iPhone\", \"Samsung\", \"Google Pixel\", \"Huawei\")\n",
    "print(len(phones))\n",
    "\n",
    "#Tuples can have different datatypes\n",
    "people=(\"adam\",\"myname\")\n",
    "Number=(14,23,45,45)\n",
    "print(type(Number))\n",
    "\n",
    "#add items to a tuple(first convert the tuple to a list,then convert it back to the tuple)\n",
    "Cars=(\"Rangerover\",\"Benz\",\"Ford\")\n",
    "z=list(Cars)\n",
    "z.append(\"Tizi\")\n",
    "Cars=tuple(z)\n",
    "print(Cars)\n",
    "\n",
    "\n",
    "#putting 2 tuples in one tuple\n",
    "#To join two or more tuples you can use the + operator:\n",
    "tuple1 = (\"a\", \"b\" , \"c\")\n",
    "tuple2 = (1, 2, 3)\n",
    "\n",
    "tuple3 = tuple1 + tuple2\n",
    "print(tuple3)\n",
    "\n",
    "#looping through the tuples for loop\n",
    "colors=(\"red\",\"blue\",\"orage\")\n",
    "for x in colors:\n",
    "    print (x)\n",
    "\n",
    "\n"
   ]
  },
  {
   "cell_type": "code",
   "execution_count": 5,
   "id": "a1cd7d19",
   "metadata": {},
   "outputs": [
    {
     "name": "stdout",
     "output_type": "stream",
     "text": [
      "<class 'int'>\n",
      "<class 'str'>\n",
      "<class 'float'>\n",
      "<class 'float'>\n"
     ]
    }
   ],
   "source": [
    "#lists,tuples,dictionaries,sets\n",
    "# the datatype\n",
    "#To know the datatype of the element , we use the type() function \n",
    "w=40\n",
    "print(type(w))\n",
    "z=\"Hello\"\n",
    "print(type(z))\n",
    "x=2.1\n",
    "print(type(x))\n",
    "y=0.55\n",
    "print(type(y))"
   ]
  },
  {
   "cell_type": "code",
   "execution_count": 6,
   "id": "b520e0bd",
   "metadata": {},
   "outputs": [
    {
     "name": "stdout",
     "output_type": "stream",
     "text": [
      "{'rice', 'matooke', 'potato', 'irish'}\n",
      "4\n",
      "<class 'set'>\n",
      "rice\n",
      "matooke\n",
      "potato\n",
      "irish\n",
      "True\n",
      "{'irish', 'matooke', 'rice', 'potato', 'Chicken'}\n",
      "{1, 2, 3, 4, 5, 6}\n"
     ]
    }
   ],
   "source": [
    "#store multiple items  in the singlevariable\n",
    "#unchangable\n",
    "\"\"\"\n",
    "A set is a collection which is unordered and unindexed. In Python sets are written with curly brackets.\n",
    "\"\"\"\n",
    "\n",
    "\n",
    "food={\"rice\",\"matooke\",\"irish\",\"potato\"}\n",
    "print(food)\n",
    "#duplicates in sets\n",
    "foodie={\"rice\",\"matooke\",\"irish\",\"potato\",\"rice\",\"rice\"}\n",
    "#Exercise:Length of the set,datatype,\n",
    "\"\"\"\n",
    "created a set called fruits with four elements. We use the len() function to calculate the length of the set, which is 4. \n",
    "The type() function is used to determine the data type of the set, which is set.\n",
    "\"\"\"\n",
    "fruits = {\"apple\", \"banana\", \"orange\", \"mango\"}\n",
    "print(len(fruits))     # Output: 4\n",
    "print(type(fruits))    # Output: <class 'set'>\n",
    "\n",
    "# accessing items in a set,adding items ,add two sets together\n",
    "\n",
    "fruits = {\"apple\", \"banana\", \"orange\", \"mango\"}\n",
    "for fruit in fruits:\n",
    "    print(fruit)\n",
    "#we iterate over the fruits set using a for loop and print each item. The loop traverses the set and outputs each element on a separate line.\n",
    "\n",
    "#length\n",
    "food={\"rice\",\"matooke\",\"irish\",\"potato\"}\n",
    "print(len(food))\n",
    "#finding the datatype\n",
    "print(type(food))\n",
    "#accessing elements in a set\n",
    "\"\"\"Acess List items,we cant access but we can\n",
    "#loop through the srt items using a for loop or ask\n",
    "if a specific value is present using the in keyword\n",
    "\"\"\"\n",
    "food={\"rice\",\"matooke\",\"irish\",\"potato\"}\n",
    "for x in food:\n",
    "    print(x)\n",
    "thisset = {\"apple\", \"banana\", \"cherry\"}\n",
    "for x in thisset:\n",
    "    print(x)\n",
    " #Checking if item is there\n",
    "food={\"rice\",\"matooke\",\"irish\",\"potato\"}\n",
    "print(\"rice\"in food)#outputs true\n",
    "\n",
    "  #Adding items to the set\n",
    "food={\"rice\",\"matooke\",\"irish\",\"potato\"} \n",
    "food.add(\"Chicken\")\n",
    "print(food)\n",
    "\n",
    "# #Adding multiple items we use update()\n",
    "# food={\"rice\",\"matooke\",\"irish\",\"potato\"}\n",
    "# food.update([\"kikomado\",\"fish\"])\n",
    "\n",
    "#Joining two sets\n",
    "set1={1,2,3,4}\n",
    "set2={5,6}\n",
    "set3=set1.union(set2)\n",
    "print(set3)"
   ]
  },
  {
   "cell_type": "code",
   "execution_count": 1,
   "id": "032116f2",
   "metadata": {},
   "outputs": [
    {
     "name": "stdout",
     "output_type": "stream",
     "text": [
      "['Adam', 'Belar', 'Titi', 'Weti', 'Oscar']\n",
      "['Adam', 'Tracy', 'Titi', 'Adam', 'Oscar', 'Titi']\n",
      "6\n",
      "<class 'list'>\n",
      "Titi\n",
      "Belar\n",
      "Oscar\n",
      "['Adam', 'Belar', 'Titi', 'Weti', 'Oscar', 'Plau']\n",
      "['Weti', 'Oscar']\n",
      "['Adam', 'Belar', 'Titi', 'Weti']\n",
      "['Belar', 'Titi', 'Weti', 'Oscar', 'Plau']\n",
      "['livi', 'Adam', 'Belar', 'Titi', 'Weti', 'Oscar', 'Plau']\n",
      "['Adam', 'Belar', 'Titi', 'Weti', 'Oscar', 'Plau']\n"
     ]
    },
    {
     "data": {
      "text/plain": [
       "'Weti'"
      ]
     },
     "execution_count": 1,
     "metadata": {},
     "output_type": "execute_result"
    }
   ],
   "source": [
    "#Lists are used to store multiple items\n",
    "#Lists are ordered,changeable,and allows duplicate values\n",
    "Afternoon=[\"Adam\",\"Belar\",\"Titi\",\"Weti\",\"Oscar\"]\n",
    "print(Afternoon)\n",
    "\n",
    "#Duplicates in Lists\n",
    "Morning=[\"Adam\",\"Tracy\",\"Titi\",\"Adam\",\"Oscar\",\"Titi\"]\n",
    "print(Morning)\n",
    "\n",
    "#List Length\n",
    "print(len(Morning))\n",
    "\n",
    "#List Type\n",
    "print(type(Afternoon))\n",
    "\n",
    "#Acess List items\n",
    "print(Afternoon[2])\n",
    "print(Afternoon[1])\n",
    "\n",
    "#negative indexing,there is no zero,we start from -1\n",
    "print(Afternoon[-1])\n",
    "\n",
    "Afternoon.append(\"Plau\")\n",
    "print(Afternoon)\n",
    "#Acessing rage of items\n",
    "print(Afternoon[3:5])\n",
    "#this means all beginning items excluding that at position 4\n",
    "print(Afternoon[:4])\n",
    " \n",
    "print(Afternoon[1:])\n",
    "\n",
    "#Adding at a specific index\n",
    "Afternoon.insert(0,\"livi\")\n",
    "print(Afternoon)\n",
    "#Removing list items\n",
    "Afternoon.remove(\"livi\")\n",
    "print(Afternoon)\n",
    "#remove list items using an index\n",
    "Afternoon.pop(3)"
   ]
  },
  {
   "cell_type": "code",
   "execution_count": 1,
   "id": "de8c0a0e",
   "metadata": {},
   "outputs": [
    {
     "name": "stdout",
     "output_type": "stream",
     "text": [
      "On a scale of 1-10, how are you feeling?2\n"
     ]
    }
   ],
   "source": [
    "dict={\n",
    "   1: \"You are so sad, what may be the problem\",\n",
    "   2: \"You are kinda sad, can i be of help\",\n",
    "   3: \"You are still not fine, what's realy wrong?\",\n",
    "   4: \"We are getting there soon, feel free to tell me more\",\n",
    "   5: \"Fair, how can i make you feel great?\",\n",
    "   6: \"Still not fine enough, tell me more\",\n",
    "   7: \"You feel great, but i want 10/10\",\n",
    "   8: \"Fairly great, just calm your mind and cool down\",\n",
    "   9: \"Great, keep it up\",\n",
    "   10: \"Perfectly Great, Woooooooow Keep that good model\",\n",
    "\n",
    "}\n",
    "\n",
    "# print(dict)\n",
    "\n",
    "emotion= input(\"On a scale of 1-10, how are you feeling?\")\n",
    "\n",
    "try:\n",
    "    emotion= int(emotion)\n",
    "except ValueError as error:\n",
    "    print(\"ValueError: \", error)\n",
    "    print(\"Please enter a number between 1-10.\")\n",
    "    exit()\n",
    "\n",
    "    if emotion in dict:\n",
    "        print(dict[emotion])"
   ]
  },
  {
   "cell_type": "code",
   "execution_count": null,
   "id": "28ab6897",
   "metadata": {},
   "outputs": [],
   "source": []
  }
 ],
 "metadata": {
  "kernelspec": {
   "display_name": "Python 3 (ipykernel)",
   "language": "python",
   "name": "python3"
  },
  "language_info": {
   "codemirror_mode": {
    "name": "ipython",
    "version": 3
   },
   "file_extension": ".py",
   "mimetype": "text/x-python",
   "name": "python",
   "nbconvert_exporter": "python",
   "pygments_lexer": "ipython3",
   "version": "3.10.9"
  }
 },
 "nbformat": 4,
 "nbformat_minor": 5
}
